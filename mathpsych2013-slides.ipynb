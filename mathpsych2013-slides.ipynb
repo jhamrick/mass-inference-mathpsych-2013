{
 "metadata": {
  "name": ""
 },
 "nbformat": 3,
 "nbformat_minor": 0,
 "worksheets": [
  {
   "cells": [
    {
     "cell_type": "raw",
     "metadata": {},
     "source": [
      "<script>Reveal.configure({center: false})</script>"
     ]
    },
    {
     "cell_type": "markdown",
     "metadata": {
      "slideshow": {
       "slide_type": "slide"
      }
     },
     "source": [
      "# Inferring mass in complex physical scenes via probabilistic simulation"
     ]
    },
    {
     "cell_type": "markdown",
     "metadata": {},
     "source": [
      "#### Presented by Jessica Hamrick\n",
      "#### MathPsych, August 6th, 2013"
     ]
    },
    {
     "cell_type": "markdown",
     "metadata": {},
     "source": [
      "In collaboration with:  \n",
      "Peter Battaglia  \n",
      "Tom Griffiths  \n",
      "Josh Tenenbaum"
     ]
    },
    {
     "cell_type": "raw",
     "metadata": {},
     "source": [
      "<img src=\"images/mit-logo.png\" style=\"height: 40px; margin: 20px 1em 20px 0\" />\n",
      "<img src=\"images/berkeley-seal.png\" style=\"height: 80px; margin: 0 1em\" />"
     ]
    },
    {
     "cell_type": "markdown",
     "metadata": {
      "slideshow": {
       "slide_type": "slide"
      }
     },
     "source": [
      "![](files/images/wall-e.png)"
     ]
    },
    {
     "cell_type": "markdown",
     "metadata": {
      "slideshow": {
       "slide_type": "notes"
      }
     },
     "source": [
      "WALL-E the robot has a job to collect and compact trash. He makes these \"trash cubes\"..."
     ]
    },
    {
     "cell_type": "markdown",
     "metadata": {
      "slideshow": {
       "slide_type": "slide"
      }
     },
     "source": [
      "![](files/images/wall-e-blocks.jpg)"
     ]
    },
    {
     "cell_type": "markdown",
     "metadata": {
      "slideshow": {
       "slide_type": "notes"
      }
     },
     "source": [
      "...and has to stack them up into enormous structures.\n",
      "\n",
      "At first glance, this seems like a trivial problem, but reasoning about the physical world like this is actually a challenging problem. \n",
      "\n",
      "* How should WALL-E stack the cubes (which might have an uneven distribution of weight) so that the stacks will not topple? \n",
      "* If there are places where the trash might be heaped in precarious or dangerous ways, how does WALL-E know to avoid those places so he doesn't get hurt?\n",
      "\n",
      "People can reason about the physical world in this way, but by and large we don't even realize when we are doing so. Our ability to reason about the everyday physical world like this is what is called out \"intuitive physics\"."
     ]
    },
    {
     "cell_type": "raw",
     "metadata": {
      "slideshow": {
       "slide_type": "slide"
      }
     },
     "source": [
      "<div class=\"text_cell_render border-box-sizing rendered_html\">\n",
      "    <div class=\"figure\">\n",
      "        <img id=\"soldier\" src=\"images/soldier.jpg\" alt=\"Found photo: a soldier (?) rushing out of the way of an unstable bombed-out building in what seems to be post-blitz France. Flickr.com. Retrieved July 15th, 2013, http://www.flickr.com/photos/theeerin/8515832971/\" />\n",
      "        <p class=\"caption\">Found photo: a soldier (?) rushing out of the way of an unstable bombed-out building in what seems to be post-blitz France. <em>Flickr.com</em>. Retrieved July 15th, 2013, <a href=\"http://www.flickr.com/photos/theeerin/8515832971\">http://www.flickr.com/photos/theeerin/8515832971/</a>\n",
      "        </p>\n",
      "    </div>\n",
      "</div>"
     ]
    },
    {
     "cell_type": "markdown",
     "metadata": {
      "slideshow": {
       "slide_type": "notes"
      }
     },
     "source": [
      "We encounter situations in which we use intuitive physics in many aspects of our lives. On one end of the spectrum, intuitive physics helps us navigate our world safely. Like this soldier, you would probably instinctively run out of such an unstable and unsafe building. If you didn\u2019t, there is a good chance you would be injured."
     ]
    },
    {
     "cell_type": "markdown",
     "metadata": {
      "slideshow": {
       "slide_type": "slide"
      }
     },
     "source": [
      "![Grub, M. <i>Gravity Glue</i>. Retrieved February 21st, 2013, from [http://www.gravityglue.com/](http://www.gravityglue.com/)](files/images/rock-balancing.jpg)"
     ]
    },
    {
     "cell_type": "markdown",
     "metadata": {
      "slideshow": {
       "slide_type": "notes"
      }
     },
     "source": [
      "On the other end of the spectrum, intuitive physics evokes a sense of wonder and awe when our expectations are violated, as in the case of this rock balancing art structure."
     ]
    },
    {
     "cell_type": "markdown",
     "metadata": {
      "slideshow": {
       "slide_type": "slide"
      }
     },
     "source": [
      "# Questions"
     ]
    },
    {
     "cell_type": "markdown",
     "metadata": {},
     "source": [
      "## How do people reason about the physical world?"
     ]
    },
    {
     "cell_type": "markdown",
     "metadata": {
      "slideshow": {
       "slide_type": "fragment"
      }
     },
     "source": [
      "## How do people ***infer the parameters*** of physical objects?"
     ]
    },
    {
     "cell_type": "markdown",
     "metadata": {
      "slideshow": {
       "slide_type": "notes"
      }
     },
     "source": [
      "So, these are the types of scenarios I am interested in: how do people reason about the physical world?\n",
      "\n",
      "And, in particular, how do we infer the parameters of physical objects, such as mass or friction?"
     ]
    },
    {
     "cell_type": "markdown",
     "metadata": {
      "slideshow": {
       "slide_type": "slide"
      }
     },
     "source": [
      "![Lagerek, C. Forklift truck lifting large container high in the air. *Shutterstock.com*. Retrieved February 2nd, 2013, from [http://www.shutterstock.com/pic.mhtml?id=5677750](http://www.shutterstock.com/pic.mhtml?id=5677750)](files/images/forklift.jpg)"
     ]
    },
    {
     "cell_type": "markdown",
     "metadata": {
      "slideshow": {
       "slide_type": "notes"
      }
     },
     "source": [
      "For example, this scene should cause you to form strong inferences about the mass of the forklift, the storage container, or possibly both. In order for this scene to be stable, the forklift must be very heavy, and/or the storage container must be very light.\n",
      "\n",
      "How is it that you are able to infer this parameter - mass - just by looking at a static image?"
     ]
    },
    {
     "cell_type": "markdown",
     "metadata": {
      "slideshow": {
       "slide_type": "slide"
      }
     },
     "source": [
      "# Inferring mass in two-body collisions\n",
      "\n",
      "![](files/images/collisions.png)\n",
      "\n",
      "Todd & Warren (1982); Gilden & Proffitt (1989); Runeson, Juslin, & Olsson (2000); Hecht (1996)  \n",
      "Sanborn, Mansingkha, & Griffiths (2013)\n"
     ]
    },
    {
     "cell_type": "markdown",
     "metadata": {
      "slideshow": {
       "slide_type": "notes"
      }
     },
     "source": [
      "There is long history of work studying how people infer mass in simple, 2d scenarios. For example, upon seeing two blocks colliding (such as the ones in this figure), which do you think is heavier?\n",
      "\n",
      "However, researchers have primarily focused on the limitations of people's reasoning, assuming that they have little to no knowledge of physics.\n",
      "\n",
      "* Some have argued that people directly \u201cperceive\u201d properties like mass.\n",
      "* Others argue that they rely on various heuristics a biases, such as that the object moving faster after a collision is the lighter object.\n",
      "\n",
      "More recent work by Sanborn, Mansingkha & Griffiths has reexamined these scenarios. \n",
      "\n",
      "* They found that a model that does have accurate knowledge of physics, but has perceptual uncertainty, is able to capture people\u2019s responses.\n",
      "* So, it is not necessarily the case that there is no physics knowledge, just that it might be limited by other factors like perceptual constraints.\n",
      "\n",
      "However, all this previous work has focused on simple, 2D scenes, yet the world we live in is 3D and very rich and complex."
     ]
    },
    {
     "cell_type": "markdown",
     "metadata": {
      "slideshow": {
       "slide_type": "slide"
      }
     },
     "source": [
      "# Physical predictions in complex scenes"
     ]
    },
    {
     "cell_type": "markdown",
     "metadata": {},
     "source": [
      "![](files/images/example-stimuli.png)"
     ]
    },
    {
     "cell_type": "markdown",
     "metadata": {},
     "source": [
      "Hamrick, Battaglia, & Tenenbaum (2011); Battaglia, Hamrick, & Tenenbaum (under review)"
     ]
    },
    {
     "cell_type": "markdown",
     "metadata": {
      "slideshow": {
       "slide_type": "notes"
      }
     },
     "source": [
      "My previous work has looked at how people reason about more complex scenes, such as these towers of building blocks.\n",
      "\n",
      "We showed people towers like these and asked them questions such as \"will the tower fall?\" or \"in what direction will it fall?\" and developed a model based on simulation to explain people's behavior."
     ]
    },
    {
     "cell_type": "markdown",
     "metadata": {
      "slideshow": {
       "slide_type": "subslide"
      }
     },
     "source": [
      "# Physical predictions in complex scenes"
     ]
    },
    {
     "cell_type": "raw",
     "metadata": {},
     "source": [
      "<div class=\"rendered_html\">\n",
      "\n",
      "    <div class=\"towers original\">\n",
      "        <img src=\"images/original-tower_0000_solid-1.png\" />\n",
      "        <img src=\"images/original-tower_0001_solid-2.png\" />\n",
      "        <img src=\"images/original-tower_0002_solid-3.png\" />\n",
      "    </div>\n",
      "</div>"
     ]
    },
    {
     "cell_type": "markdown",
     "metadata": {},
     "source": [
      "Hamrick, Battaglia, & Tenenbaum (2011); Battaglia, Hamrick, & Tenenbaum (under review)"
     ]
    },
    {
     "cell_type": "markdown",
     "metadata": {
      "slideshow": {
       "slide_type": "notes"
      }
     },
     "source": [
      "The intuition for the idea of simulation comes from that we can imagine what will happen when the tower falls... and we can practically \u201csee\u201d the movement of the blocks once it has started to fall."
     ]
    },
    {
     "cell_type": "raw",
     "metadata": {
      "slideshow": {
       "slide_type": "slide"
      }
     },
     "source": [
      "<div class=\"rendered_html\" id=\"people-can\">\n",
      "    <h1>People can:</h1>\n",
      "    <ul>\n",
      "        <li class=\"fragment\"><strong><em>Infer</em></strong> mass in simple scenes</li>\n",
      "        <li class=\"fragment\">Make predictions in <strong><em>complex</em></strong> scenes</li>\n",
      "    </ul>\n",
      "\n",
      "    <h2 class=\"fragment\">Can people <strong><em>infer</em></strong> mass in <strong><em>complex</em></strong> scenes?</h2>\n",
      "</div>"
     ]
    },
    {
     "cell_type": "raw",
     "metadata": {
      "slideshow": {
       "slide_type": "fragment"
      }
     },
     "source": [
      "<div class=\"rendered_html\">\n",
      "    <br />\n",
      "    <h3>Which color is heavier?</h3>\n",
      "\n",
      "    <div class=\"towers ry\">\n",
      "        <img src=\"images/ry-tower_0000_1.png\" />\n",
      "        <img src=\"images/ry-tower_0001_2.png\" />\n",
      "        <img src=\"images/ry-tower_0002_3.png\" />\n",
      "    </div>\n",
      "</div>"
     ]
    },
    {
     "cell_type": "markdown",
     "metadata": {
      "slideshow": {
       "slide_type": "notes"
      }
     },
     "source": [
      "So, from these two previous lines of research, we hae that:\n",
      "\n",
      "* People may use accurate physics knowledge to infer mass in simple scenes\n",
      "* People may use a type of physical simulation to make predictions in complex scenes\n",
      "\n",
      "The next logical question is: can people infer mass in complex scenes?\n",
      "\n",
      "* For example, you see a tower of blocks fall down.\n",
      "* It has red and yellow blocks, and you know one color is heavier, but not which color.\n",
      "* Can you infer which is the heavier color?\n"
     ]
    },
    {
     "cell_type": "markdown",
     "metadata": {
      "slideshow": {
       "slide_type": "slide"
      }
     },
     "source": [
      "# Trial Structure\n",
      "(2 possible trial orderings)"
     ]
    },
    {
     "cell_type": "markdown",
     "metadata": {
      "slideshow": {
       "slide_type": "fragment"
      }
     },
     "source": [
      "1. View tower"
     ]
    },
    {
     "cell_type": "markdown",
     "metadata": {
      "slideshow": {
       "slide_type": "fragment"
      }
     },
     "source": [
      "2. Answer ***\"will it fall?\"***"
     ]
    },
    {
     "cell_type": "markdown",
     "metadata": {
      "slideshow": {
       "slide_type": "fragment"
      }
     },
     "source": [
      "3. Observe feedback\n",
      "    * Binary text feedback\n",
      "    * Video and text feedback"
     ]
    },
    {
     "cell_type": "markdown",
     "metadata": {
      "slideshow": {
       "slide_type": "fragment"
      }
     },
     "source": [
      "4. (Some trials) Answer ***\"which color is heavier?\"***"
     ]
    },
    {
     "cell_type": "raw",
     "metadata": {},
     "source": [
      "<div class=\"towers ry\">\n",
      "    <div class=\"fragment\" data-fragment-index=\"0\">\n",
      "        <img src=\"images/ry-tower_0000_1.png\" />\n",
      "    </div>\n",
      "\n",
      "    <div class=\"fragment\" data-fragment-index=\"2\">\n",
      "        <img src=\"images/ry-tower_0001_2.png\" />\n",
      "    </div>\n",
      "\n",
      "    <div class=\"fragment\" data-fragment-index=\"2\">\n",
      "        <img src=\"images/ry-tower_0002_3-feedback.png\" />\n",
      "    </div>\n",
      "</div>"
     ]
    },
    {
     "cell_type": "markdown",
     "metadata": {
      "slideshow": {
       "slide_type": "notes"
      }
     },
     "source": [
      "This is exactly what we asked people to do. We ran an experiment in which people saw 40 different towers, in two possible orderings. Each trial was structured as follows:\n",
      "\n",
      "1. First, people saw the tower\n",
      "2. We then asked them to answer the question, \"will the tower fall?\"\n",
      "3. After they answered, we showed them feedback. Either they saw binary text feedback, in which they just saw \"will fall\" or \"won't fall\" printed on the screen, or they saw both text and visual feedback, where they actually got to see a movie of the tower falling or not falling.\n",
      "4. Finally, on some trials, we also asked people which color they thought was heavier."
     ]
    },
    {
     "cell_type": "markdown",
     "metadata": {
      "slideshow": {
       "slide_type": "slide"
      }
     },
     "source": [
      "# Feedback mass ratios\n",
      "\n",
      "![](files/images/effect-of-mass-on-stability-1.png)"
     ]
    },
    {
     "cell_type": "markdown",
     "metadata": {
      "slideshow": {
       "slide_type": "notes"
      }
     },
     "source": [
      "We additionally split people into groups based on mass ratio, which determined the feedback they would see."
     ]
    },
    {
     "cell_type": "markdown",
     "metadata": {
      "slideshow": {
       "slide_type": "subslide"
      }
     },
     "source": [
      "# Feedback mass ratios\n",
      "\n",
      "![](files/images/effect-of-mass-on-stability-2.png)"
     ]
    },
    {
     "cell_type": "markdown",
     "metadata": {
      "slideshow": {
       "slide_type": "notes"
      }
     },
     "source": [
      "For example, if yellow is heavier, this is a stable tower, so people would see feedback where the tower does not fall."
     ]
    },
    {
     "cell_type": "markdown",
     "metadata": {
      "slideshow": {
       "slide_type": "subslide"
      }
     },
     "source": [
      "# Feedback mass ratios\n",
      "\n",
      "![](files/images/effect-of-mass-on-stability-3.png)"
     ]
    },
    {
     "cell_type": "markdown",
     "metadata": {
      "slideshow": {
       "slide_type": "notes"
      }
     },
     "source": [
      "On the other hand, if red is heavier, then the tower is unstable, so people would see it fall.\n",
      "\n",
      "So, depending on the mass ratio, people saw different feedback, which (ideally) would lead them to make different inferences about which color was heavier."
     ]
    },
    {
     "cell_type": "markdown",
     "metadata": {
      "slideshow": {
       "slide_type": "slide"
      }
     },
     "source": [
      "# \"Which is heavier?\": Trial 8\n",
      "\n",
      "![](files/images/talk-explicit_mass_judgments_trial8.png)"
     ]
    },
    {
     "cell_type": "markdown",
     "metadata": {
      "slideshow": {
       "slide_type": "notes"
      }
     },
     "source": [
      "This is indeed what we found. This plot shows the proportion of correct \"which color is heavier?\" judgments after the 8th trial.\n",
      "\n",
      "* The majority of people correctly inferred the correct color after only 8 trials -- here, 7/8 conditions are significantly above chance.\n",
      "* This was the same for the rest of the experiment as well; trial 40 looks essentially the same.\n",
      "* The one exception was this one condition ($r_0=0.1$, order 1, binary feedback) which never seemed to infer the correct mass ratio -- even at trial 40, they were still at chance. \n",
      "    * When we looked closer at this condition, we found that the first few trials gave confusing, \"anti-informative\" feedback, meaning that the feedback made it look like the actual heavier color was the lighter color.\n",
      "    * So, we think that people saw these trials, made the incorrect inference, and then got confused when later trials contradicted their initial inference.\n",
      "    * However, the corresponding visual feedback condition ($r_0=0.1$, order 1, visual feedback) learned the correct mass ratio. We think this is because there is more information present in the visual feedback. In addition to \"fall/not fall\", people might be also paying attention to things like how many blocks fall, what direction, etc. So, we think this extra information was enough to let people recover from the initially confusing feedback."
     ]
    },
    {
     "cell_type": "markdown",
     "metadata": {
      "slideshow": {
       "slide_type": "subslide"
      }
     },
     "source": [
      "# \"Which is heavier?\": Trial 1\n",
      "\n",
      "![](files/images/talk-explicit_mass_judgments_trial1.png)"
     ]
    },
    {
     "cell_type": "markdown",
     "metadata": {
      "slideshow": {
       "slide_type": "notes"
      }
     },
     "source": [
      "Despite the one anomolous condition, I want to stress how quickly most people seemed to infer the correct mass in general. This is the same plot, but for Trial 1, and as you can see, after only this single trial of feedback, many people had already inferred the correct mass. There seems to be some very powerful oneshot learning going on here: people are quite sensitive to the feedback they are getting."
     ]
    },
    {
     "cell_type": "raw",
     "metadata": {
      "slideshow": {
       "slide_type": "slide"
      }
     },
     "source": [
      "<div class=\"rendered_html\" id=\"people-can\">\n",
      "    <h1>People can:</h1>\n",
      "    <ul>\n",
      "        <li><strong><em>Infer</em></strong> mass in simple scenes</li>\n",
      "        <li>Make predictions in <strong><em>complex</em></strong> scenes</li>\n",
      "        <li class=\"fragment\"><strong><em>Infer</em></strong> mass in <strong><em>complex</em></strong> scenes</li>\n",
      "    </ul>\n",
      "    <h1 class=\"fragment\">How?</h1>\n",
      "</div>"
     ]
    },
    {
     "cell_type": "markdown",
     "metadata": {
      "slideshow": {
       "slide_type": "notes"
      }
     },
     "source": [
      "So, we asked the question \"can people infer mass in complex scenes?\", and the answer is yes, they can!\n",
      "\n",
      "The next question is: how? What is the mechanism underlying people's ability to make these inferences?"
     ]
    },
    {
     "cell_type": "markdown",
     "metadata": {
      "slideshow": {
       "slide_type": "slide"
      }
     },
     "source": [
      "# Modeling people's inferences"
     ]
    },
    {
     "cell_type": "markdown",
     "metadata": {},
     "source": [
      "### Combine two approaches:\n",
      "\n",
      "1. Simulation-based physics knowledge  \n",
      "    *Hamrick et al. (2011); Battaglia et al. (under review)*\n",
      "\n",
      "2. Rational approach to inferring physical parameters  \n",
      "    *Sanborn et al. (2009; 2013)*"
     ]
    },
    {
     "cell_type": "markdown",
     "metadata": {
      "slideshow": {
       "slide_type": "notes"
      }
     },
     "source": [
      "We developed a model that combines the two previous approaches I mentioned earlier: the simulation based physics knowledge that I have helped to develop, and the rational approach to inferring physical parameters by Sanborn et al."
     ]
    },
    {
     "cell_type": "markdown",
     "metadata": {
      "slideshow": {
       "slide_type": "slide"
      }
     },
     "source": [
      "# \"Intuitive Physics Engine\" (IPE)\n",
      "\n",
      "![](files/images/ipe-schematic-a.png)\n",
      "\n",
      "## 1. Perception"
     ]
    },
    {
     "cell_type": "markdown",
     "metadata": {},
     "source": [
      "Hamrick, Battaglia, & Tenenbaum (2011); Battaglia, Hamrick, & Tenenbaum (under review)"
     ]
    },
    {
     "cell_type": "markdown",
     "metadata": {
      "slideshow": {
       "slide_type": "notes"
      }
     },
     "source": [
      "I will first describe how the simulation component of the model works.\n",
      "\n",
      "First, the model views the scene and forms an internal representation of the objects in the scene. However, it has some perceptual uncertainty, so when it perceives the scene there is some noise in the localization of objects."
     ]
    },
    {
     "cell_type": "markdown",
     "metadata": {
      "slideshow": {
       "slide_type": "subslide"
      }
     },
     "source": [
      "# Perceptual Samples"
     ]
    },
    {
     "cell_type": "raw",
     "metadata": {
      "slideshow": {
       "slide_type": "-"
      }
     },
     "source": [
      "<img src=\"images/original-tower_0000_solid-1.png\" style=\"height: 294px\" /> <video controls loop=\"true\">\n",
      "    <source src=\"videos/perceptual-samples.mp4\" height=\"294px\" type=\"video/mp4\">\n",
      "    Your browser does not support the video tag.\n",
      "</video>"
     ]
    },
    {
     "cell_type": "markdown",
     "metadata": {
      "slideshow": {
       "slide_type": "notes"
      }
     },
     "source": [
      "To give you a sense of what I mean by perceptual noise, I am going to show you a short video of different perceptual samples that the model might take. You can tell that they all come from the same original tower, but that they are all also slightly different."
     ]
    },
    {
     "cell_type": "markdown",
     "metadata": {
      "slideshow": {
       "slide_type": "subslide"
      }
     },
     "source": [
      "# \"Intuitive Physics Engine\" (IPE)\n",
      "\n",
      "![](files/images/ipe-schematic-b.png)\n",
      "\n",
      "## 2. Physical Reasoning"
     ]
    },
    {
     "cell_type": "markdown",
     "metadata": {},
     "source": [
      "Hamrick, Battaglia, & Tenenbaum (2011); Battaglia, Hamrick, & Tenenbaum (under review)"
     ]
    },
    {
     "cell_type": "markdown",
     "metadata": {
      "slideshow": {
       "slide_type": "notes"
      }
     },
     "source": [
      "Ok, so once the model has drawn some perceptual samples, it runs these forward through a process of physical reasoning. This is actually a physical simulation, like that of a physics engine that you might find in a video game."
     ]
    },
    {
     "cell_type": "markdown",
     "metadata": {
      "slideshow": {
       "slide_type": "subslide"
      }
     },
     "source": [
      "# \"Intuitive Physics Engine\" (IPE)\n",
      "\n",
      "![](files/images/ipe-schematic-c.png)\n",
      "\n",
      "## 3. Decision"
     ]
    },
    {
     "cell_type": "markdown",
     "metadata": {},
     "source": [
      "Hamrick, Battaglia, & Tenenbaum (2011); Battaglia, Hamrick, & Tenenbaum (under review)"
     ]
    },
    {
     "cell_type": "markdown",
     "metadata": {
      "slideshow": {
       "slide_type": "notes"
      }
     },
     "source": [
      "Finally, the model takes the final states from the simulations and compares them to the initial states in order to come to a decision on the physical judgment, such as \"will the tower fall?\". By considering all the samples, the model can approximate a distribution for the probability that the tower will fall. We will take this distribution now and embed it in our inference framework to allow for belief updating."
     ]
    },
    {
     "cell_type": "markdown",
     "metadata": {
      "slideshow": {
       "slide_type": "slide"
      }
     },
     "source": [
      "# Belief updating\n",
      "\n",
      "![](files/images/belief-updating-1.png)"
     ]
    },
    {
     "cell_type": "markdown",
     "metadata": {
      "slideshow": {
       "slide_type": "notes"
      }
     },
     "source": [
      "As before, the model views the scene..."
     ]
    },
    {
     "cell_type": "markdown",
     "metadata": {
      "slideshow": {
       "slide_type": "subslide"
      }
     },
     "source": [
      "# Belief updating\n",
      "\n",
      "![](files/images/belief-updating-2.png)"
     ]
    },
    {
     "cell_type": "markdown",
     "metadata": {
      "slideshow": {
       "slide_type": "notes"
      }
     },
     "source": [
      "And uses its physics knowledge to compute the probability that the tower will fall given a particular mass ratio. It can then integrate over mass ratios in order marginalize out that variable and give the distribution only over whether the tower will fall, independent of what the true mass ratio is."
     ]
    },
    {
     "cell_type": "markdown",
     "metadata": {
      "slideshow": {
       "slide_type": "subslide"
      }
     },
     "source": [
      "# Belief updating\n",
      "\n",
      "![](files/images/belief-updating-3.png)"
     ]
    },
    {
     "cell_type": "markdown",
     "metadata": {
      "slideshow": {
       "slide_type": "notes"
      }
     },
     "source": [
      "Next, the model produces a judgment of \"fall\" or \"not fall\" using this same distribution (engaging in a probability matching strategy)."
     ]
    },
    {
     "cell_type": "markdown",
     "metadata": {
      "slideshow": {
       "slide_type": "subslide"
      }
     },
     "source": [
      "# Belief updating\n",
      "\n",
      "![](files/images/belief-updating-4.png)"
     ]
    },
    {
     "cell_type": "markdown",
     "metadata": {
      "slideshow": {
       "slide_type": "notes"
      }
     },
     "source": [
      "Finally, after the model observes feedback, it can evaluate the likelihood of that feedback under the same probability distribution for whether the tower will fall that I described before. It then updates its beliefs using Bayes's Rule, giving a posterior distribution over masses, reflecting belief about which mass ratios are more likely."
     ]
    },
    {
     "cell_type": "markdown",
     "metadata": {
      "slideshow": {
       "slide_type": "slide"
      }
     },
     "source": [
      "# Models"
     ]
    },
    {
     "cell_type": "markdown",
     "metadata": {
      "slideshow": {
       "slide_type": "fragment"
      }
     },
     "source": [
      "### Random\n",
      "\n",
      "Guesses \"will fall\" 50% of the time, and \"won't fall\" the other 50%.\n",
      "\n",
      "$$p(J) = 0.5$$"
     ]
    },
    {
     "cell_type": "markdown",
     "metadata": {
      "slideshow": {
       "slide_type": "fragment"
      }
     },
     "source": [
      "### Fixed-belief IPE\n",
      "\n",
      "Uses IPE to make predictions, but ignores feedback/does not update beliefs about mass.\n",
      "\n",
      "$$p_t(r\\ |\\ \\mathrm{tower}, F_t) = p_{t-1}(r)$$"
     ]
    },
    {
     "cell_type": "markdown",
     "metadata": {
      "slideshow": {
       "slide_type": "fragment"
      }
     },
     "source": [
      "### Learning IPE\n",
      "\n",
      "Uses IPE to make predictions and to update beliefs about mass.\n",
      "\n",
      "$$p_t(r\\ |\\ \\mathrm{tower}, F_t)\\propto p(F_t\\ |\\ \\mathrm{tower}, r)p_{t-1}(r)$$"
     ]
    },
    {
     "cell_type": "markdown",
     "metadata": {
      "slideshow": {
       "slide_type": "notes"
      }
     },
     "source": [
      "In order to see how well our model could explain people's behavior, we compared it with two other models. \n",
      "\n",
      "First, we computed the model fit for a model that guesses randomly \u2013 that is, it randomly says \u201cwill fall\u201d 50% of the time, and \u201cwon\u2019t fall\u201d the other 50% of the time.\n",
      "\n",
      "Next, we computed the fit for a model that has knowledge of physics, but doesn\u2019t actually update its beliefs \u2013 in other words, it ignores all feedback.\n",
      "\n",
      "Finally, we computed the fit for the full learning model, which has knowledge of physics and updates its belief about the true mass ratio after observing feedback on each trial."
     ]
    },
    {
     "cell_type": "markdown",
     "metadata": {
      "slideshow": {
       "slide_type": "slide"
      }
     },
     "source": [
      "# Model Comparison: \"Will it fall?\"\n",
      "\n",
      "![](files/images/talk-model_performance_0.png)"
     ]
    },
    {
     "cell_type": "markdown",
     "metadata": {
      "slideshow": {
       "slide_type": "notes"
      }
     },
     "source": [
      "For each of these models, we evaluated the likelihood of people's responses to the question of \"will it fall?\".\n",
      "\n",
      "If people are taking the knowledge they inferred about mass and generalizing it to other types of physical reasoning, then their responses to \"will it fall?\" should get change over time as their beliefs about the latent parameter for mass get more accurate.\n",
      "\n",
      "So, we should see that the learning model does a better job of explaining their judgments than the fixed or the chance model.\n",
      "\n",
      "If, however, people do not generalize their inferences, then we should see that the fixed model does better than the learning and chance models."
     ]
    },
    {
     "cell_type": "markdown",
     "metadata": {
      "slideshow": {
       "slide_type": "subslide"
      }
     },
     "source": [
      "# Model Comparison: \"Will it fall?\"\n",
      "\n",
      "![](files/images/talk-model_performance_1.png)"
     ]
    },
    {
     "cell_type": "markdown",
     "metadata": {
      "slideshow": {
       "slide_type": "notes"
      }
     },
     "source": [
      "Here is chance performance -- it is the same for all conditions because again, it just assumes people guess \"will fall\" 50% of the time and \"won't fall\" the other 50%."
     ]
    },
    {
     "cell_type": "markdown",
     "metadata": {
      "slideshow": {
       "slide_type": "subslide"
      }
     },
     "source": [
      "# Model Comparison: \"Will it fall?\"\n",
      "\n",
      "![](files/images/talk-model_performance_2.png)"
     ]
    },
    {
     "cell_type": "markdown",
     "metadata": {
      "slideshow": {
       "slide_type": "subslide"
      }
     },
     "source": [
      "# Model Comparison: \"Will it fall?\"\n",
      "\n",
      "![](files/images/talk-model_performance_3.png)"
     ]
    },
    {
     "cell_type": "markdown",
     "metadata": {
      "slideshow": {
       "slide_type": "notes"
      }
     },
     "source": [
      "As we would expect, the learning model is better than chance at explaining people's behavior, except in the condition where people did not learn.\n",
      "\n",
      "In most conditions, the learning model is also significantly better than the fixed model, indicating that people's knowledge does transfer to other types of physical judgments.\n",
      "\n",
      "There were two other cases in which the fixed model and the learning model were equally good at explaining people's behavior, though both were better than chance. \n",
      "\n",
      "* This shows that a model with knowledge of physics is most important in explaining people's responses.\n",
      "* However, it also suggests that our learning model isn't a perfect account of people's behavior -- there is something else going on that isn't fully captured by the learning model.\n",
      "\n",
      "In general, however, these results indicate that the learning model is at least a good starting point for explaining how people update their beliefs about mass over time and how they generalize that knowledge to other types of physical judgments."
     ]
    },
    {
     "cell_type": "markdown",
     "metadata": {
      "slideshow": {
       "slide_type": "slide"
      }
     },
     "source": [
      "# Future Questions"
     ]
    },
    {
     "cell_type": "markdown",
     "metadata": {
      "slideshow": {
       "slide_type": "fragment"
      }
     },
     "source": [
      "### How much do people get from a single trial?\n",
      "\n",
      "* Is evidence as computed by the model predictive of people\u2019s accuracy on \u201cwhich is heavier?\u201d"
     ]
    },
    {
     "cell_type": "markdown",
     "metadata": {
      "slideshow": {
       "slide_type": "fragment"
      }
     },
     "source": [
      "### What extra information is in visual feedback?\n",
      "\n",
      "* Direction\n",
      "* Number of blocks\n",
      "* Which blocks\n",
      "* ..."
     ]
    },
    {
     "cell_type": "markdown",
     "metadata": {
      "slideshow": {
       "slide_type": "fragment"
      }
     },
     "source": [
      "### Primacy effects?\n",
      "\n",
      "* Is it due to imperfect/noisy belief updating?\n",
      "* What resource limitations would cause that?"
     ]
    },
    {
     "cell_type": "markdown",
     "metadata": {
      "slideshow": {
       "slide_type": "notes"
      }
     },
     "source": [
      "If it is in fact the case that people were sensitive to the \"anti-informativeness\" of the confusing feedback in the $r=0.1$/binary/order 1 condition, then we should be able to vary this information content and see systematic changes in people's responses.\n",
      "\n",
      "Relatedly, if it was the extra information in the videos that allowed people in the visual feedback condition to recover from the confusing feedback, then we would like to know *which* extra information they paid attention to. As I mentioned before, they could be also using features such as direction, number of blocks that fell, etc., in addition to fall/not fall.\n",
      "\n",
      "Finally, people seemed to be more sensitive to information that was present at the beginning of the experiment. An ideal Bayesian learner should not exhibit any order effects, so perhaps the primacy effect we saw was a result of resource limitations or imperfect belief updating."
     ]
    },
    {
     "cell_type": "raw",
     "metadata": {
      "slideshow": {
       "slide_type": "slide"
      }
     },
     "source": [
      "<div class=\"rendered_html\" id=\"people-can\">\n",
      "    <h1>People can:</h1>\n",
      "    <ul>\n",
      "        <li><strong><em>Infer</em></strong> mass in simple scenes</li>\n",
      "        <li>Make predictions in <strong><em>complex</em></strong> scenes</li>\n",
      "        <li><strong><em>Infer</em></strong> mass in <strong><em>complex</em></strong> scenes\n",
      "            <ol class=\"fragment\">\n",
      "                <li>With or without video feedback</li>\n",
      "                <li>One shot learning</li>\n",
      "            </ol>\n",
      "        </li>\n",
      "    </ul>\n",
      "</div>"
     ]
    },
    {
     "cell_type": "markdown",
     "metadata": {
      "slideshow": {
       "slide_type": "fragment"
      }
     },
     "source": [
      "#### General behavior explained by:\n",
      "\n",
      "* Approximate Newtonian knowledge\n",
      "* Rational inference of unobserved parameters"
     ]
    },
    {
     "cell_type": "markdown",
     "metadata": {
      "slideshow": {
       "slide_type": "fragment"
      }
     },
     "source": [
      "***This is an important step towards understanding how people learn about the  environment around them, and gives a framework for modeling their behavior in physical scenarios.***"
     ]
    },
    {
     "cell_type": "markdown",
     "metadata": {
      "slideshow": {
       "slide_type": "fragment"
      }
     },
     "source": [
      "# Thanks!"
     ]
    },
    {
     "cell_type": "markdown",
     "metadata": {
      "slideshow": {
       "slide_type": "notes"
      }
     },
     "source": [
      "In conclusion, we asked the question, \"can people infer mass in complex scenes?\". We determined that the answer is yes, and that they are very adept at doing so -- people can infer the correct mass after receiving only binary feedback, and sometimes they can make the correct inferences after only a single trial.\n",
      "\n",
      "We developed a model which explained people's general behavior by combining approximate knowledge of Newtonian physics (as instantiated in a probabilistic simulation) in a rational framework for inferring unobservable parameters like mass.\n",
      "\n",
      "This work is an important step in understanding and explaining how people behave and reason about the physical world, and provides a framework for studying how they learn about other parts of their environment (for example, other parameters like friction, or perhaps different dynamics entirely)."
     ]
    },
    {
     "cell_type": "markdown",
     "metadata": {
      "slideshow": {
       "slide_type": "slide"
      }
     },
     "source": [
      "# Extra slides"
     ]
    },
    {
     "cell_type": "markdown",
     "metadata": {
      "slideshow": {
       "slide_type": "slide"
      }
     },
     "source": [
      "# Model Comparison: \"Which is heavier?\"\n",
      "\n",
      "![](files/images/talk-explicit_mass_judgments.png)"
     ]
    },
    {
     "cell_type": "markdown",
     "metadata": {
      "slideshow": {
       "slide_type": "slide"
      }
     },
     "source": [
      "# Ideal Observer Beliefs\n",
      "\n",
      "![](files/images/talk-ideal_observer_beliefs.png)"
     ]
    },
    {
     "cell_type": "markdown",
     "metadata": {
      "slideshow": {
       "slide_type": "slide"
      }
     },
     "source": [
      "# Mass tower pairs\n",
      "\n",
      "![](files/images/green-gray-dir336_0015_2-solid-1.png)\n",
      "![](files/images/green-gray-dir336_0001_1-solid-1.png)"
     ]
    },
    {
     "cell_type": "markdown",
     "metadata": {},
     "source": [
      "Battaglia, Hamrick, & Tenenbaum (under review)"
     ]
    },
    {
     "cell_type": "markdown",
     "metadata": {
      "slideshow": {
       "slide_type": "slide"
      }
     },
     "source": [
      "# Heuristics\n",
      "\n",
      "![](files/images/heuristics.png)"
     ]
    },
    {
     "cell_type": "markdown",
     "metadata": {},
     "source": [
      "Battaglia, Hamrick, & Tenenbaum (under review)"
     ]
    },
    {
     "cell_type": "markdown",
     "metadata": {
      "slideshow": {
       "slide_type": "slide"
      }
     },
     "source": [
      "# Previous IPE results\n",
      "\n",
      "![](files/images/journal-results.png)"
     ]
    },
    {
     "cell_type": "markdown",
     "metadata": {},
     "source": [
      "Battaglia, Hamrick, & Tenenbaum (under review)"
     ]
    },
    {
     "cell_type": "markdown",
     "metadata": {
      "slideshow": {
       "slide_type": "slide"
      }
     },
     "source": [
      "# Mass-sensitive stability results\n",
      "\n",
      "![](files/images/mass-stability-results-a.png)"
     ]
    },
    {
     "cell_type": "markdown",
     "metadata": {},
     "source": [
      "Battaglia, Hamrick, & Tenenbaum (under review)"
     ]
    },
    {
     "cell_type": "markdown",
     "metadata": {
      "slideshow": {
       "slide_type": "subslide"
      }
     },
     "source": [
      "# Mass-sensitive stability results\n",
      "\n",
      "![](files/images/mass-stability-results-b.png)"
     ]
    },
    {
     "cell_type": "markdown",
     "metadata": {},
     "source": [
      "Battaglia, Hamrick, & Tenenbaum (under review)"
     ]
    },
    {
     "cell_type": "markdown",
     "metadata": {
      "slideshow": {
       "slide_type": "slide"
      }
     },
     "source": [
      "# Mass-sensitive direction results\n",
      "\n",
      "![](files/images/mass-direction-results-a.png)"
     ]
    },
    {
     "cell_type": "markdown",
     "metadata": {},
     "source": [
      "Battaglia, Hamrick, & Tenenbaum (under review)"
     ]
    },
    {
     "cell_type": "markdown",
     "metadata": {
      "slideshow": {
       "slide_type": "subslide"
      }
     },
     "source": [
      "# Mass-sensitive direction results\n",
      "\n",
      "![](files/images/mass-direction-results-b.png)"
     ]
    },
    {
     "cell_type": "markdown",
     "metadata": {},
     "source": [
      "Battaglia, Hamrick, & Tenenbaum (under review)"
     ]
    }
   ],
   "metadata": {}
  }
 ]
}