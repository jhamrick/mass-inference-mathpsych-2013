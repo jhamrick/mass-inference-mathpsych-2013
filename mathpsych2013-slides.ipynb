{
 "metadata": {
  "name": ""
 },
 "nbformat": 3,
 "nbformat_minor": 0,
 "worksheets": [
  {
   "cells": [
    {
     "cell_type": "markdown",
     "metadata": {
      "slideshow": {
       "slide_type": "slide"
      }
     },
     "source": [
      "# Inferring mass in complex physical scenes via probabilistic simulation"
     ]
    },
    {
     "cell_type": "markdown",
     "metadata": {},
     "source": [
      "#### Presented by Jessica Hamrick\n",
      "#### MathPsych, August 6th, 2013"
     ]
    },
    {
     "cell_type": "markdown",
     "metadata": {},
     "source": [
      "In collaboration with:  \n",
      "Peter Battaglia  \n",
      "Tom Griffiths  \n",
      "Josh Tenenbaum"
     ]
    },
    {
     "cell_type": "raw",
     "metadata": {},
     "source": [
      "<img src=\"images/mit-logo.png\" style=\"height: 40px; margin: 20px 1em 20px 0\" />\n",
      "<img src=\"images/berkeley-seal.png\" style=\"height: 80px; margin: 0 1em\" />"
     ]
    },
    {
     "cell_type": "markdown",
     "metadata": {
      "slideshow": {
       "slide_type": "slide"
      }
     },
     "source": [
      "![](files/images/wall-e.png)"
     ]
    },
    {
     "cell_type": "markdown",
     "metadata": {
      "slideshow": {
       "slide_type": "notes"
      }
     },
     "source": [
      "WALL-E the robot has a job to collect and compact trash. He makes these \"trash cubes\"..."
     ]
    },
    {
     "cell_type": "markdown",
     "metadata": {
      "slideshow": {
       "slide_type": "slide"
      }
     },
     "source": [
      "![](files/images/wall-e-blocks.jpg)"
     ]
    },
    {
     "cell_type": "markdown",
     "metadata": {
      "slideshow": {
       "slide_type": "notes"
      }
     },
     "source": [
      "...and has to stack them up into enormous structures.\n",
      "\n",
      "At first glance, this seems like a trivial problem, but reasoning about the physical world like this is actually a challenging problem. \n",
      "\n",
      "* How should WALL-E stack the cubes (which might have an uneven distribution of weight) so that the stacks will not topple? \n",
      "* Which places should he avoid collecting trash from, because the trash might be heaped in precarious or dangerous ways?\n",
      "\n",
      "We can reason about the physical world in this way, but by and large we don't even realize when we are doing so."
     ]
    },
    {
     "cell_type": "raw",
     "metadata": {
      "slideshow": {
       "slide_type": "slide"
      }
     },
     "source": [
      "<div class=\"text_cell_render border-box-sizing rendered_html\">\n",
      "    <div class=\"figure\">\n",
      "        <img id=\"soldier\" src=\"images/soldier.jpg\" alt=\"Found photo: a soldier (?) rushing out of the way of an unstable bombed-out building in what seems to be post-blitz France. Flickr.com. Retrieved July 15th, 2013, http://www.flickr.com/photos/theeerin/8515832971/\" />\n",
      "        <p class=\"caption\">Found photo: a soldier (?) rushing out of the way of an unstable bombed-out building in what seems to be post-blitz France. <em>Flickr.com</em>. Retrieved July 15th, 2013, <a href=\"http://www.flickr.com/photos/theeerin/8515832971\">http://www.flickr.com/photos/theeerin/8515832971/</a>\n",
      "        </p>\n",
      "    </div>\n",
      "</div>"
     ]
    },
    {
     "cell_type": "markdown",
     "metadata": {
      "slideshow": {
       "slide_type": "notes"
      }
     },
     "source": [
      "We encounter situations in which we use intuitive physics in many aspects of our lives.\n",
      "\n",
      "On one end of the spectrum, intuitive physics helps us navigate our world safely.\n",
      "\n",
      "Like this soldier, you would probably instinctively run out of such an unstable and unsafe building. \n",
      "\n",
      "If you didn\u2019t, there is a good chance you would be injured."
     ]
    },
    {
     "cell_type": "markdown",
     "metadata": {
      "slideshow": {
       "slide_type": "slide"
      }
     },
     "source": [
      "![Grub, M. <i>Gravity Glue</i>. Retrieved February 21st, 2013, from [http://www.gravityglue.com/](http://www.gravityglue.com/)](files/images/rock-balancing.jpg)"
     ]
    },
    {
     "cell_type": "markdown",
     "metadata": {
      "slideshow": {
       "slide_type": "notes"
      }
     },
     "source": [
      "On the other end of the spectrum, intuitive physics evokes a sense of wonder and awe when our expectations are violated."
     ]
    },
    {
     "cell_type": "markdown",
     "metadata": {
      "slideshow": {
       "slide_type": "slide"
      }
     },
     "source": [
      "# Questions"
     ]
    },
    {
     "cell_type": "markdown",
     "metadata": {},
     "source": [
      "## How do people reason about the physical world?"
     ]
    },
    {
     "cell_type": "markdown",
     "metadata": {
      "slideshow": {
       "slide_type": "fragment"
      }
     },
     "source": [
      "## How do people ***infer the parameters*** of physical objects?"
     ]
    },
    {
     "cell_type": "markdown",
     "metadata": {
      "slideshow": {
       "slide_type": "notes"
      }
     },
     "source": [
      "I am interested in how our \"intuitive physics\" works \u2013 what about it enables us to reason so fluidly about the everyday physical world?\n",
      "\n",
      "In particular, how do we infer the parameters of physical objects?"
     ]
    },
    {
     "cell_type": "markdown",
     "metadata": {
      "slideshow": {
       "slide_type": "slide"
      }
     },
     "source": [
      "![Lagerek, C. Forklift truck lifting large container high in the air. *Shutterstock.com*. Retrieved February 2nd, 2013, from [http://www.shutterstock.com/pic.mhtml?id=5677750](http://www.shutterstock.com/pic.mhtml?id=5677750)](files/images/forklift.jpg)"
     ]
    },
    {
     "cell_type": "markdown",
     "metadata": {
      "slideshow": {
       "slide_type": "notes"
      }
     },
     "source": [
      "For example, this scene should cause you to form strong inferences about the mass of the forklift, the storage container, or possibly both.\n",
      "\n",
      "How is it that you are able to infer this parameter - mass - just by looking at a static image?"
     ]
    },
    {
     "cell_type": "markdown",
     "metadata": {
      "slideshow": {
       "slide_type": "slide"
      }
     },
     "source": [
      "# Inferring mass in two-body collisions\n",
      "\n",
      "![](files/images/collisions.png)\n",
      "\n",
      "Todd & Warren (1982); Gilden & Proffitt (1989); Runeson, Juslin, & Olsson (2000); Hecht (1996)  \n",
      "Sanborn, Mansingkha, & Griffiths (2013)\n"
     ]
    },
    {
     "cell_type": "markdown",
     "metadata": {
      "slideshow": {
       "slide_type": "notes"
      }
     },
     "source": [
      "There is long history of work studying how people infer mass in simple, 2d scenarios.\n",
      "\n",
      "For example, upon seeing two blocks colliding, which do you think is heavier?\n",
      "\n",
      "Researchers have primarily focused on the limitations of people's reasoning, assuming that they have little to no knowledge of physics.\n",
      "\n",
      "* Some have argued that people directly \u201cperceive\u201d properties like mass.\n",
      "\n",
      "* Others argue that they rely on various heuristics a biases, such as that the object moving faster after a collision is the lighter object.\n",
      "\n",
      "More recent work by Sanborn, Mansingkha & Griffiths has reexamined these scenarios.\n",
      "\n",
      "* They found that a model that does have accurate knowledge of physics, but has perceptual uncertainty, is able to capture people\u2019s responses.\n",
      "\n",
      "* So, it is not necessarily the case that there is no physics knowledge, just that it might be limited by other factors like perceptual constraints."
     ]
    },
    {
     "cell_type": "markdown",
     "metadata": {
      "slideshow": {
       "slide_type": "slide"
      }
     },
     "source": [
      "# Physical predictions in complex scenes"
     ]
    },
    {
     "cell_type": "markdown",
     "metadata": {},
     "source": [
      "![](files/images/example-stimuli.png)"
     ]
    },
    {
     "cell_type": "markdown",
     "metadata": {},
     "source": [
      "Hamrick, Battaglia, & Tenenbaum (2011); Battaglia, Hamrick, & Tenenbaum (under review)"
     ]
    },
    {
     "cell_type": "markdown",
     "metadata": {
      "slideshow": {
       "slide_type": "notes"
      }
     },
     "source": [
      "However, this previous work has all focused on simple, 2d scenarios.\n",
      "But, the real world is 3d, not 2d.\n",
      "\n",
      "A related line of research, which I have worked on, has looked at how people reason about more complex scenes.\n",
      "\n",
      "For example, upon seeing this tower of building blocks, do you think it will fall or not?\n",
      "\n",
      "We asked people this question, and developed a model of intuitive physics that relies on simulation."
     ]
    },
    {
     "cell_type": "markdown",
     "metadata": {
      "slideshow": {
       "slide_type": "subslide"
      }
     },
     "source": [
      "# Physical predictions in complex scenes"
     ]
    },
    {
     "cell_type": "raw",
     "metadata": {},
     "source": [
      "<div class=\"rendered_html\">\n",
      "    <br />\n",
      "    <h3>Which color is heavier?</h3>\n",
      "\n",
      "    <div class=\"towers original\">\n",
      "        <img src=\"images/original-tower_0000_solid-1.png\" />\n",
      "        <img src=\"images/original-tower_0001_solid-2.png\" />\n",
      "        <img src=\"images/original-tower_0002_solid-3.png\" />\n",
      "    </div>\n",
      "</div>"
     ]
    },
    {
     "cell_type": "markdown",
     "metadata": {},
     "source": [
      "Hamrick, Battaglia, & Tenenbaum (2011); Battaglia, Hamrick, & Tenenbaum (under review)"
     ]
    },
    {
     "cell_type": "markdown",
     "metadata": {
      "slideshow": {
       "slide_type": "notes"
      }
     },
     "source": [
      "The intuition for the idea of simulation comes from that we can imagine what will happen when the tower falls\u2026\n",
      "\u2026 and we can practically \u201csee\u201d the movement of the blocks once it has started to fall."
     ]
    },
    {
     "cell_type": "raw",
     "metadata": {
      "slideshow": {
       "slide_type": "slide"
      }
     },
     "source": [
      "<div class=\"rendered_html\" id=\"people-can\">\n",
      "    <h1>People can:</h1>\n",
      "    <ul>\n",
      "        <li class=\"fragment\"><strong><em>Infer</em></strong> mass in simple scenes</li>\n",
      "        <li class=\"fragment\">Make predictions in <strong><em>complex</em></strong> scenes</li>\n",
      "    </ul>\n",
      "\n",
      "    <h2 class=\"fragment\">Can people <strong><em>infer</em></strong> mass in <strong><em>complex</em></strong> scenes?</h2>\n",
      "</div>"
     ]
    },
    {
     "cell_type": "raw",
     "metadata": {
      "slideshow": {
       "slide_type": "fragment"
      }
     },
     "source": [
      "<div class=\"rendered_html\">\n",
      "    <br />\n",
      "    <h3>Which color is heavier?</h3>\n",
      "\n",
      "    <div class=\"towers ry\">\n",
      "        <img src=\"images/ry-tower_0000_1.png\" />\n",
      "        <img src=\"images/ry-tower_0001_2.png\" />\n",
      "        <img src=\"images/ry-tower_0002_3.png\" />\n",
      "    </div>\n",
      "</div>"
     ]
    },
    {
     "cell_type": "markdown",
     "metadata": {
      "slideshow": {
       "slide_type": "notes"
      }
     },
     "source": [
      "To summarize, we know that:\n",
      "\n",
      "* People may use accurate physics knowledge to infer mass in simple scenes\n",
      "* People may use a type of physical simulation to make predictions in complex scenes\n",
      "\n",
      "So, can people infer mass in complex scenes?\n",
      "\n",
      "* For example, you see a tower of blocks fall down.\n",
      "* It has red and yellow blocks, and you know one color is heavier, but not which color.\n",
      "* Can you infer which is the heavier color?\n"
     ]
    },
    {
     "cell_type": "markdown",
     "metadata": {
      "slideshow": {
       "slide_type": "slide"
      }
     },
     "source": [
      "# Trial Structure\n",
      "(2 possible trial orderings)"
     ]
    },
    {
     "cell_type": "markdown",
     "metadata": {
      "slideshow": {
       "slide_type": "fragment"
      }
     },
     "source": [
      "1. View tower"
     ]
    },
    {
     "cell_type": "markdown",
     "metadata": {
      "slideshow": {
       "slide_type": "fragment"
      }
     },
     "source": [
      "2. Answer ***\"will it fall?\"***"
     ]
    },
    {
     "cell_type": "markdown",
     "metadata": {
      "slideshow": {
       "slide_type": "fragment"
      }
     },
     "source": [
      "3. Observe feedback\n",
      "    * Binary text feedback\n",
      "    * Video and text feedback"
     ]
    },
    {
     "cell_type": "markdown",
     "metadata": {
      "slideshow": {
       "slide_type": "fragment"
      }
     },
     "source": [
      "4. (Some trials) Answer ***\"which color is heavier?\"***"
     ]
    },
    {
     "cell_type": "raw",
     "metadata": {},
     "source": [
      "<div class=\"towers ry\">\n",
      "    <div class=\"fragment\" data-fragment-index=\"0\">\n",
      "        <img src=\"images/ry-tower_0000_1.png\" />\n",
      "    </div>\n",
      "\n",
      "    <div class=\"fragment\" data-fragment-index=\"2\">\n",
      "        <img src=\"images/ry-tower_0001_2.png\" />\n",
      "    </div>\n",
      "\n",
      "    <div class=\"fragment\" data-fragment-index=\"2\">\n",
      "        <img src=\"images/ry-tower_0002_3-feedback.png\" />\n",
      "    </div>\n",
      "</div>"
     ]
    },
    {
     "cell_type": "markdown",
     "metadata": {
      "slideshow": {
       "slide_type": "slide"
      }
     },
     "source": [
      "# Feedback mass ratios\n",
      "\n",
      "![](files/images/effect-of-mass-on-stability-1.png)"
     ]
    },
    {
     "cell_type": "markdown",
     "metadata": {
      "slideshow": {
       "slide_type": "notes"
      }
     },
     "source": [
      "Depending on which color is heavier, the feedback that people see can be different."
     ]
    },
    {
     "cell_type": "markdown",
     "metadata": {
      "slideshow": {
       "slide_type": "subslide"
      }
     },
     "source": [
      "# Feedback mass ratios\n",
      "\n",
      "![](files/images/effect-of-mass-on-stability-2.png)"
     ]
    },
    {
     "cell_type": "markdown",
     "metadata": {
      "slideshow": {
       "slide_type": "notes"
      }
     },
     "source": [
      "For example, if YELLOW is heavier, this is a stable tower\n",
      "\n",
      "So people see feedback that doesn\u2019t fall"
     ]
    },
    {
     "cell_type": "markdown",
     "metadata": {
      "slideshow": {
       "slide_type": "subslide"
      }
     },
     "source": [
      "# Feedback mass ratios\n",
      "\n",
      "![](files/images/effect-of-mass-on-stability-3.png)"
     ]
    },
    {
     "cell_type": "markdown",
     "metadata": {
      "slideshow": {
       "slide_type": "notes"
      }
     },
     "source": [
      "But if RED is heavier, then this is an unstable tower\n",
      "\n",
      "So people see feedback that does fall"
     ]
    },
    {
     "cell_type": "markdown",
     "metadata": {
      "slideshow": {
       "slide_type": "slide"
      }
     },
     "source": [
      "# \"Which is heavier?\": Trial 8\n",
      "\n",
      "![](files/images/talk-explicit_mass_judgments_trial8.png)"
     ]
    },
    {
     "cell_type": "markdown",
     "metadata": {
      "slideshow": {
       "slide_type": "notes"
      }
     },
     "source": [
      "* Plot shows the proportion of correct judgments as a function of time\n",
      "* People are definitely inferring the correct mass ratio by the end of the experiment, except in the one r=0.1 condition\n",
      "* People are frequently above chance on the first trial, suggesting they are actually very adept learners \u2013 but perhaps susceptible to primacy effects\n",
      "\n",
      "Don\u2019t talk much about the first ordering until after the model has been introduced\n"
     ]
    },
    {
     "cell_type": "markdown",
     "metadata": {
      "slideshow": {
       "slide_type": "subslide"
      }
     },
     "source": [
      "# \"Which is heavier?\": Trial 1\n",
      "\n",
      "![](files/images/talk-explicit_mass_judgments_trial1.png)"
     ]
    },
    {
     "cell_type": "markdown",
     "metadata": {
      "slideshow": {
       "slide_type": "notes"
      }
     },
     "source": [
      "* Plot shows the proportion of correct judgments as a function of time\n",
      "* People are definitely inferring the correct mass ratio by the end of the experiment, except in the one r=0.1 condition\n",
      "* People are frequently above chance on the first trial, suggesting they are actually very adept learners \u2013 but perhaps susceptible to primacy effects"
     ]
    },
    {
     "cell_type": "raw",
     "metadata": {
      "slideshow": {
       "slide_type": "slide"
      }
     },
     "source": [
      "<div class=\"rendered_html\" id=\"people-can\">\n",
      "    <h1>People can:</h1>\n",
      "    <ul>\n",
      "        <li><strong><em>Infer</em></strong> mass in simple scenes</li>\n",
      "        <li>Make predictions in <strong><em>complex</em></strong> scenes</li>\n",
      "        <li class=\"fragment\"><strong><em>Infer</em></strong> mass in <strong><em>complex</em></strong> scenes</li>\n",
      "    </ul>\n",
      "    <h1 class=\"fragment\">How?</h1>\n",
      "</div>"
     ]
    },
    {
     "cell_type": "markdown",
     "metadata": {
      "slideshow": {
       "slide_type": "slide"
      }
     },
     "source": [
      "# Modeling people's inferences"
     ]
    },
    {
     "cell_type": "markdown",
     "metadata": {},
     "source": [
      "### Combine two approaches:\n",
      "\n",
      "1. Simulation-based physics knowledge  \n",
      "    *Hamrick et al. (2011); Battaglia et al. (under review)*\n",
      "\n",
      "2. Rational approach to inferring physical parameters  \n",
      "    *Sanborn et al. (2009; 2013)*"
     ]
    },
    {
     "cell_type": "markdown",
     "metadata": {
      "slideshow": {
       "slide_type": "slide"
      }
     },
     "source": [
      "# \"Intuitive Physics Engine\" (IPE)\n",
      "\n",
      "![](files/images/ipe-schematic-a.png)\n",
      "\n",
      "## 1. Perception"
     ]
    },
    {
     "cell_type": "markdown",
     "metadata": {},
     "source": [
      "Hamrick, Battaglia, & Tenenbaum (2011); Battaglia, Hamrick, & Tenenbaum (under review)"
     ]
    },
    {
     "cell_type": "markdown",
     "metadata": {
      "slideshow": {
       "slide_type": "subslide"
      }
     },
     "source": [
      "# Perceptual Samples"
     ]
    },
    {
     "cell_type": "raw",
     "metadata": {
      "slideshow": {
       "slide_type": "-"
      }
     },
     "source": [
      "<img src=\"images/original-tower_0000_solid-1.png\" style=\"height: 294px\" /> <video controls loop=\"true\">\n",
      "    <source src=\"videos/perceptual-samples.mp4\" height=\"294px\" type=\"video/mp4\">\n",
      "    Your browser does not support the video tag.\n",
      "</video>"
     ]
    },
    {
     "cell_type": "markdown",
     "metadata": {
      "slideshow": {
       "slide_type": "subslide"
      }
     },
     "source": [
      "# \"Intuitive Physics Engine\" (IPE)\n",
      "\n",
      "![](files/images/ipe-schematic-b.png)\n",
      "\n",
      "## 2. Physical Reasoning"
     ]
    },
    {
     "cell_type": "markdown",
     "metadata": {},
     "source": [
      "Hamrick, Battaglia, & Tenenbaum (2011); Battaglia, Hamrick, & Tenenbaum (under review)"
     ]
    },
    {
     "cell_type": "markdown",
     "metadata": {
      "slideshow": {
       "slide_type": "subslide"
      }
     },
     "source": [
      "# \"Intuitive Physics Engine\" (IPE)\n",
      "\n",
      "![](files/images/ipe-schematic-c.png)\n",
      "\n",
      "## 3. Decision"
     ]
    },
    {
     "cell_type": "markdown",
     "metadata": {},
     "source": [
      "Hamrick, Battaglia, & Tenenbaum (2011); Battaglia, Hamrick, & Tenenbaum (under review)"
     ]
    },
    {
     "cell_type": "markdown",
     "metadata": {
      "slideshow": {
       "slide_type": "slide"
      }
     },
     "source": [
      "# Belief updating\n",
      "\n",
      "![](files/images/belief-updating-1.png)"
     ]
    },
    {
     "cell_type": "markdown",
     "metadata": {
      "slideshow": {
       "slide_type": "notes"
      }
     },
     "source": [
      "1. Observe scene\n",
      "2. Use IPE to compute probability of outcomes for different mass ratios\n",
      "   * Only two shown here, but we used 27 total logarithmically spaced between 0.05 and 20\n",
      "3. Compute overall probability of outcomes \u2013 in this case, fall is slightly more likely\n",
      "4. Respond to \u201cwill it fall?\u201d\n",
      "5. Observe feedback\n",
      "6. Update belief\n",
      "7. Respond to \u201cwhich is heavier?\u201d\n"
     ]
    },
    {
     "cell_type": "markdown",
     "metadata": {
      "slideshow": {
       "slide_type": "subslide"
      }
     },
     "source": [
      "# Belief updating\n",
      "\n",
      "![](files/images/belief-updating-2.png)"
     ]
    },
    {
     "cell_type": "markdown",
     "metadata": {
      "slideshow": {
       "slide_type": "subslide"
      }
     },
     "source": [
      "# Belief updating\n",
      "\n",
      "![](files/images/belief-updating-3.png)"
     ]
    },
    {
     "cell_type": "markdown",
     "metadata": {
      "slideshow": {
       "slide_type": "subslide"
      }
     },
     "source": [
      "# Belief updating\n",
      "\n",
      "![](files/images/belief-updating-4.png)"
     ]
    },
    {
     "cell_type": "markdown",
     "metadata": {
      "slideshow": {
       "slide_type": "slide"
      }
     },
     "source": [
      "# Models"
     ]
    },
    {
     "cell_type": "markdown",
     "metadata": {
      "slideshow": {
       "slide_type": "fragment"
      }
     },
     "source": [
      "### Random\n",
      "\n",
      "Guesses \"will fall\" 50% of the time, and \"won't fall\" the other 50%.\n",
      "\n",
      "$$p(J) = 0.5$$"
     ]
    },
    {
     "cell_type": "markdown",
     "metadata": {
      "slideshow": {
       "slide_type": "notes"
      }
     },
     "source": [
      "First, we computed the model fit for a model that guesses randomly \u2013 that is, it randomly says \u201cwill fall\u201d 50% of the time, and \u201cwon\u2019t fall\u201d the other 50% of the time."
     ]
    },
    {
     "cell_type": "markdown",
     "metadata": {
      "slideshow": {
       "slide_type": "fragment"
      }
     },
     "source": [
      "### Fixed-belief IPE\n",
      "\n",
      "Uses IPE to make predictions, but ignores feedback/does not update beliefs about mass.\n",
      "\n",
      "$$p_t(r\\ |\\ \\mathrm{tower}, F_t) = p_{t-1}(r)$$"
     ]
    },
    {
     "cell_type": "markdown",
     "metadata": {
      "slideshow": {
       "slide_type": "notes"
      }
     },
     "source": [
      "Next, we computed the fit for a model that has knowledge of physics, but doesn\u2019t actually update its beliefs \u2013 in other words, it ignores all feedback."
     ]
    },
    {
     "cell_type": "markdown",
     "metadata": {
      "slideshow": {
       "slide_type": "fragment"
      }
     },
     "source": [
      "### Learning IPE\n",
      "\n",
      "Uses IPE to make predictions and to update beliefs about mass.\n",
      "\n",
      "$$p_t(r\\ |\\ \\mathrm{tower}, F_t)\\propto p(F_t\\ |\\ \\mathrm{tower}, r)p_{t-1}(r)$$"
     ]
    },
    {
     "cell_type": "markdown",
     "metadata": {
      "slideshow": {
       "slide_type": "notes"
      }
     },
     "source": [
      "Finally, we computed the fit for the full learning model, which has knowledge of physics and updates its belief about the true mass ratio after observing feedback on each trial."
     ]
    },
    {
     "cell_type": "markdown",
     "metadata": {
      "slideshow": {
       "slide_type": "slide"
      }
     },
     "source": [
      "# Model Comparison: \"Will it fall?\"\n",
      "\n",
      "![](files/images/talk-model_performance_0.png)"
     ]
    },
    {
     "cell_type": "markdown",
     "metadata": {
      "slideshow": {
       "slide_type": "subslide"
      }
     },
     "source": [
      "# Model Comparison: \"Will it fall?\"\n",
      "\n",
      "![](files/images/talk-model_performance_1.png)"
     ]
    },
    {
     "cell_type": "markdown",
     "metadata": {
      "slideshow": {
       "slide_type": "subslide"
      }
     },
     "source": [
      "# Model Comparison: \"Will it fall?\"\n",
      "\n",
      "![](files/images/talk-model_performance_2.png)"
     ]
    },
    {
     "cell_type": "markdown",
     "metadata": {
      "slideshow": {
       "slide_type": "notes"
      }
     },
     "source": [
      "This \u201cstatic\u201d model is a better fit to people\u2019s judgments of \u201cwill it fall\u201d than chance, reflecting that people are using a strategy that is more intelligent than chance, and that does capture some knowledge of physics.\n",
      "\n",
      "The static model is about the same as chance for the conditions that received conflicting evidence at the beginning, reflecting the earlier intuition that participants got confused and started guessing randomly."
     ]
    },
    {
     "cell_type": "markdown",
     "metadata": {
      "slideshow": {
       "slide_type": "subslide"
      }
     },
     "source": [
      "# Model Comparison: \"Will it fall?\"\n",
      "\n",
      "![](files/images/talk-model_performance_3.png)"
     ]
    },
    {
     "cell_type": "markdown",
     "metadata": {
      "slideshow": {
       "slide_type": "notes"
      }
     },
     "source": [
      "As we would expect, it is in general better than both chance and the static model. We know people learned the correct mass ratio from their judgments of \u201cwhich is heavier?\u201d, but we didn\u2019t know if they actually used that knowledge to help with other physics tasks \u2013 the fact that the learning model is better than the static model suggests that they do.\n",
      "\n",
      "The learning model does not fully capture people\u2019s behavior \u2013 e.g., why they don\u2019t recover from the confusing feedback in the condition on the left. But it is is a good starting approximation."
     ]
    },
    {
     "cell_type": "markdown",
     "metadata": {
      "slideshow": {
       "slide_type": "slide"
      }
     },
     "source": [
      "# Future Questions"
     ]
    },
    {
     "cell_type": "markdown",
     "metadata": {
      "slideshow": {
       "slide_type": "fragment"
      }
     },
     "source": [
      "### How much do people get from a single trial?\n",
      "\n",
      "* Is evidence as computed by the model predictive of people\u2019s accuracy on \u201cwhich is heavier?\u201d"
     ]
    },
    {
     "cell_type": "markdown",
     "metadata": {
      "slideshow": {
       "slide_type": "fragment"
      }
     },
     "source": [
      "### What extra information is in visual feedback?\n",
      "\n",
      "* Direction\n",
      "* Number of blocks\n",
      "* Which blocks\n",
      "* ..."
     ]
    },
    {
     "cell_type": "markdown",
     "metadata": {
      "slideshow": {
       "slide_type": "fragment"
      }
     },
     "source": [
      "### Primacy effects?\n",
      "\n",
      "* Is it due to imperfect/noisy belief updating?\n",
      "* What resource limitations would cause that?"
     ]
    },
    {
     "cell_type": "raw",
     "metadata": {
      "slideshow": {
       "slide_type": "slide"
      }
     },
     "source": [
      "<div class=\"rendered_html\" id=\"people-can\">\n",
      "    <h1>People can:</h1>\n",
      "    <ul>\n",
      "        <li><strong><em>Infer</em></strong> mass in simple scenes</li>\n",
      "        <li>Make predictions in <strong><em>complex</em></strong> scenes</li>\n",
      "        <li><strong><em>Infer</em></strong> mass in <strong><em>complex</em></strong> scenes\n",
      "            <ol class=\"fragment\">\n",
      "                <li>With or without video feedback</li>\n",
      "                <li>One shot learning</li>\n",
      "            </ol>\n",
      "        </li>\n",
      "    </ul>\n",
      "</div>"
     ]
    },
    {
     "cell_type": "markdown",
     "metadata": {
      "slideshow": {
       "slide_type": "fragment"
      }
     },
     "source": [
      "#### General behavior explained by:\n",
      "\n",
      "* Approximate Newtonian knowledge\n",
      "* Rational inference of unobserved parameters"
     ]
    },
    {
     "cell_type": "markdown",
     "metadata": {
      "slideshow": {
       "slide_type": "fragment"
      }
     },
     "source": [
      "***This is an important step towards understanding how people learn about the  environment around them, and gives a framework for modeling their behavior in physical scenarios.***"
     ]
    },
    {
     "cell_type": "markdown",
     "metadata": {
      "slideshow": {
       "slide_type": "fragment"
      }
     },
     "source": [
      "# Thanks!"
     ]
    },
    {
     "cell_type": "markdown",
     "metadata": {
      "slideshow": {
       "slide_type": "slide"
      }
     },
     "source": [
      "# Model Comparison: \"Which is heavier?\"\n",
      "\n",
      "![](files/images/talk-explicit_mass_judgments.png)"
     ]
    },
    {
     "cell_type": "markdown",
     "metadata": {
      "slideshow": {
       "slide_type": "slide"
      }
     },
     "source": [
      "# Ideal Observer Beliefs\n",
      "\n",
      "![](files/images/talk-ideal_observer_beliefs.png)"
     ]
    },
    {
     "cell_type": "markdown",
     "metadata": {
      "slideshow": {
       "slide_type": "slide"
      }
     },
     "source": [
      "# Mass tower pairs\n",
      "\n",
      "![](files/images/green-gray-dir336_0015_2-solid-1.png)\n",
      "![](files/images/green-gray-dir336_0001_1-solid-1.png)"
     ]
    },
    {
     "cell_type": "markdown",
     "metadata": {
      "slideshow": {
       "slide_type": "slide"
      }
     },
     "source": [
      "# Heuristics\n",
      "\n",
      "![](files/images/heuristics.png)"
     ]
    },
    {
     "cell_type": "markdown",
     "metadata": {
      "slideshow": {
       "slide_type": "slide"
      }
     },
     "source": [
      "# Previous IPE results\n",
      "\n",
      "![](files/images/journal-results.png)"
     ]
    },
    {
     "cell_type": "markdown",
     "metadata": {
      "slideshow": {
       "slide_type": "slide"
      }
     },
     "source": [
      "# Mass-sensitive stability results\n",
      "\n",
      "![](files/images/mass-stability-results-a.png)"
     ]
    },
    {
     "cell_type": "markdown",
     "metadata": {
      "slideshow": {
       "slide_type": "subslide"
      }
     },
     "source": [
      "# Mass-sensitive stability results\n",
      "\n",
      "![](files/images/mass-stability-results-b.png)"
     ]
    },
    {
     "cell_type": "markdown",
     "metadata": {
      "slideshow": {
       "slide_type": "slide"
      }
     },
     "source": [
      "# Mass-sensitive direction results\n",
      "\n",
      "![](files/images/mass-direction-results-a.png)"
     ]
    },
    {
     "cell_type": "markdown",
     "metadata": {
      "slideshow": {
       "slide_type": "subslide"
      }
     },
     "source": [
      "# Mass-sensitive direction results\n",
      "\n",
      "![](files/images/mass-direction-results-b.png)"
     ]
    }
   ],
   "metadata": {}
  }
 ]
}